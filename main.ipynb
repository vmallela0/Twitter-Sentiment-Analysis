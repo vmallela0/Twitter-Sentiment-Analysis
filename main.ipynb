{
 "cells": [
  {
   "cell_type": "code",
   "execution_count": 1,
   "metadata": {},
   "outputs": [],
   "source": [
    "import nltk # nlp processing toolkit\n",
    "from textblob import TextBlob, Word, Blobber # hooking up to nltk\n",
    "import tweepy # for twitter api\n",
    "import numpy as np\n",
    "import pandas as pd\n",
    "import matplotlib.pyplot as plt\n",
    "import seaborn as sns\n",
    "import tkinter as tk\n",
    "\n"
   ]
  },
  {
   "cell_type": "code",
   "execution_count": 2,
   "metadata": {},
   "outputs": [],
   "source": [
    "consumer_key = 'bUe0HnRooyKBZpzo6de0ZDf4P'\n",
    "consumer_secret = 'Fx4bgDYsIwVpONwQqJZsuC4kBbc3Ib8TJywLmbJkoTcZdMepmo'\n",
    "access_token = '1272931080790773763-QYMGjdbWB0COeA8SZFzJxRyHeep9F8'\n",
    "access_token_secret = 'RCl9BXm4Uz410MOMHT0zcAm5dYit6GgWcvfWaSIITj0fD'\n",
    "\n",
    "auth = tweepy.OAuthHandler(consumer_key, consumer_secret)\n",
    "auth.set_access_token(access_token, access_token_secret)\n",
    "\n",
    "api = tweepy.API(auth)\n",
    "\n",
    "polarity = []\n",
    "subjectivity = []\n",
    "tweetArr = []\n",
    "\n",
    "polarPos = 0\n",
    "polarNeg = 0\n",
    "\n",
    "subjectPos = 0\n",
    "subjectNeg = 0"
   ]
  },
  {
   "cell_type": "code",
   "execution_count": 3,
   "metadata": {},
   "outputs": [
    {
     "name": "stdin",
     "output_type": "stream",
     "text": [
      "Query::   conda\n"
     ]
    },
    {
     "name": "stdout",
     "output_type": "stream",
     "text": [
      "\n",
      " POLARITY::  \n",
      "[-0.013749999999999998, 0.0, 0.45, 0.0, 0.0]\n",
      "\n",
      " SUBJECTIVITY::  \n",
      "[0.52, 0.0, 0.65, 0.3333333333333333, 0.0]\n",
      "\n",
      " TWEETS::  \n",
      "[\"RT @TAESEVENING: THIS VIDEO OF ME GOING THROUGH IT AND MY LITTLE BROTHER HAVING HIS MOMENT SINGING JUNGKOOK'S HIGH NOTE IN ON REACHED 1MIL?…\", 'RT @FlTZZZ: Got it', '@dirtXnaasty Yeah you do. Most are free. I have Avira', 'RT @visionxdotio: We are hiring a Senior Python Developer with extensive expertise in Python, Django, Conda, PIP, SQL, Pandas, and NumPy to…', 'RT @dripyonko: *PS5 comes in the mail*\\n\\nMe to my PS4: https://t.co/Gv4kExK6Ui']\n"
     ]
    }
   ],
   "source": [
    "query = input(\"Query::  \")\n",
    "public_tweets = tweepy.Cursor(api.search, q=query, rpp=100, count=200, result_type=\"recent\", include_entities=True, lang=\"en\").items(5) # set to 200\n",
    "#TODO Possibly also filter other params ex. lang/geo ==> feed into tkinter gui and plot the graph through seaborn/matplot?\n",
    "for i in public_tweets:\n",
    "    tweetArr.append(i.text)\n",
    "    analysis = TextBlob(i.text)\n",
    "    \n",
    "    polar = analysis.sentiment\n",
    "    polarity.append(float(polar.polarity))\n",
    "    if(polar.polarity > 0):\n",
    "        polarPos++\n",
    "    elif(polar.polarity < 0):\n",
    "        polarNeg++\n",
    "    \n",
    "    subject = analysis.sentiment\n",
    "    subjectivity.append(float(subject.subjectivity))\n",
    "\n",
    "print(\"\\n POLARITY::  \")\n",
    "print(polarity)\n",
    "print(\"\\n SUBJECTIVITY::  \")\n",
    "print(subjectivity)\n",
    "print(\"\\n TWEETS::  \")\n",
    "print(tweetArr)"
   ]
  },
  {
   "cell_type": "code",
   "execution_count": null,
   "metadata": {},
   "outputs": [],
   "source": []
  }
 ],
 "metadata": {
  "kernelspec": {
   "display_name": "Python 3.8.3 64-bit ('tweepy': conda)",
   "language": "python",
   "name": "python38364bittweepycondaeb70cc2b857540c398e4a47b5b2c140f"
  },
  "language_info": {
   "codemirror_mode": {
    "name": "ipython",
    "version": 3
   },
   "file_extension": ".py",
   "mimetype": "text/x-python",
   "name": "python",
   "nbconvert_exporter": "python",
   "pygments_lexer": "ipython3",
   "version": "3.8.3"
  }
 },
 "nbformat": 4,
 "nbformat_minor": 4
}
