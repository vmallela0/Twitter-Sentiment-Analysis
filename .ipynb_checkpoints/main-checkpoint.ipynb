{
 "cells": [
  {
   "cell_type": "code",
   "execution_count": 1,
   "metadata": {},
   "outputs": [],
   "source": [
    "import nltk # nlp processing toolkit\n",
    "from textblob import TextBlob, Word, Blobber # hooking up to nltk\n",
    "import tweepy # for twitter api\n",
    "import numpy as np\n",
    "import pandas as pd\n",
    "import matplotlib.pyplot as plt\n",
    "import seaborn as sns\n",
    "import tkinter as tk\n",
    "\n"
   ]
  },
  {
   "cell_type": "code",
   "execution_count": 2,
   "metadata": {},
   "outputs": [],
   "source": [
    "consumer_key = 'bUe0HnRooyKBZpzo6de0ZDf4P'\n",
    "consumer_secret = 'Fx4bgDYsIwVpONwQqJZsuC4kBbc3Ib8TJywLmbJkoTcZdMepmo'\n",
    "access_token = '1272931080790773763-QYMGjdbWB0COeA8SZFzJxRyHeep9F8'\n",
    "access_token_secret = 'RCl9BXm4Uz410MOMHT0zcAm5dYit6GgWcvfWaSIITj0fD'\n",
    "\n",
    "auth = tweepy.OAuthHandler(consumer_key, consumer_secret)\n",
    "auth.set_access_token(access_token, access_token_secret)\n",
    "\n",
    "api = tweepy.API(auth)\n",
    "\n",
    "polarity = []\n",
    "subjectivity = []\n",
    "tweetArr = []"
   ]
  },
  {
   "cell_type": "code",
   "execution_count": 7,
   "metadata": {},
   "outputs": [
    {
     "name": "stdin",
     "output_type": "stream",
     "text": [
      "Query::   TWEET\n"
     ]
    },
    {
     "name": "stdout",
     "output_type": "stream",
     "text": [
      "\n",
      " POLARITY::  \n",
      "[0.0, 0.2, 0.4125, 0.5, 0.0, 0.0, 0.8, 0.0, 0.0, 0.3242424242424242, 0.0, 0.0, 0.4000000000000001, 0.005681818181818177, 0.0, 0.0, 0.060876623376623376, 0.0, 0.0, -0.425]\n",
      "\n",
      " SUBJECTIVITY::  \n",
      "[0.0, 0.2, 0.36250000000000004, 0.5, 0.4, 0.0, 1.0, 0.0, 0.0, 0.503030303030303, 0.0, 0.0, 0.6333333333333334, 0.4147727272727273, 0.0, 0.0, 0.4439935064935065, 0.0, 0.0, 0.6833333333333332]\n",
      "\n",
      " TWEETS::  \n",
      "['Earl was on his burner', '@fuckubiscuit @earlxsweat No way, I like Earl but a battle of diss tracks, his monotone reading ass voice isn’t gonna do much', 'A great staple to have in your bar when experimenting at home are flavoured syrups! A good standard is Earl Grey Sy… https://t.co/0buIMnYOhN', \"RT @BRNAgNews_Ken: Interesting exchange between USTR Robert Lighthizer and Oregon Rep. Earl Blumenauer during today's House Ways &amp; Means Co…\", 'RT @ScoobyTheGoat93: Currently on bush 😭😭😭😭😭. vid credit :@Gittdee24 https://t.co/QkPuE1IMf5', 'RT @DailyPostNGR: US condemns killings in Nigeria, calls out Buhari govt\\nhttps://t.co/R6DZw8q342 https://t.co/CDn2pmoXyS', 'RT @ComplexSneakers: Happy birthday @kendricklamar 🐐 https://t.co/R9dyGM4igq', 'Twitter gotta get rid of all this porn 🤢', \"RT @ManUtd: We'll leave you with this 😁\\n\\n#MUFC @PaulPogba https://t.co/ykhhbIKpJN\", 'RT @bep: Always a good time when we’re with our familia @piso21music 👍 Listen to our new collab TODO BUENO on our new album #BEPTranslation…', 'twitter keeps asking me to confirm my pw bitch i forgot my password😖', '@sagemp4 @Twitter im sorry😭', 'RT @brianschatz: This is one of those situations in which the truth sounds so apocalyptic that just describing the situation accurately mak…', 'RT @feistyfrank: gays leaving voice notes for each other with the new Twitter feature: https://t.co/buDfOqdkxL', 'RT @cchemtrails: if this is not a \"concentration camp\" then what is it??', 'RT @InBroadDay: This my twitter answering machine message in case I miss your tweet. https://t.co/kipcXcehAF', 'RT @DOMtheB0MB: In exactly one hour I will send $100 via Venmo to a random special person who has RT THIS TWEET and likes my new video ⤵️ (…', 'RT @InBroadDay: This my twitter answering machine message in case I miss your tweet. https://t.co/kipcXcehAF', 'RT @InBroadDay: This my twitter answering machine message in case I miss your tweet. https://t.co/kipcXcehAF', 'RT @Pinkcloud15: @ProudGrannyCdn @matthewamiller Him and his Criminal family (Dumb and dumber, Plastic Princes and Souless Creepy son in la…']\n"
     ]
    }
   ],
   "source": [
    "query = input(\"Query::  \")\n",
    "public_tweets = tweepy.Cursor(api.search, q=query, rpp=100, count=200, result_type=\"recent\", include_entities=True, lang=\"en\").items(5) # set to 200\n",
    "#TODO Possibly also filter other params ex. lang/geo ==> feed into tkinter gui and plot the graph through seaborn/matplot?\n",
    "for i in public_tweets:\n",
    "    tweetArr.append(i.text)\n",
    "    analysis = TextBlob(i.text)\n",
    "    \n",
    "    polar = analysis.sentiment\n",
    "    polarity.append(float(polar.polarity))\n",
    "    \n",
    "    subject = analysis.sentiment\n",
    "    subjectivity.append(float(subject.subjectivity))\n",
    "\n",
    "print(\"\\n POLARITY::  \")\n",
    "print(polarity)\n",
    "print(\"\\n SUBJECTIVITY::  \")\n",
    "print(subjectivity)\n",
    "print(\"\\n TWEETS::  \")\n",
    "print(tweetArr)"
   ]
  },
  {
   "cell_type": "code",
   "execution_count": null,
   "metadata": {},
   "outputs": [],
   "source": []
  }
 ],
 "metadata": {
  "kernelspec": {
   "display_name": "Python 3.8.3 64-bit ('tweepy': conda)",
   "language": "python",
   "name": "python38364bittweepycondaeb70cc2b857540c398e4a47b5b2c140f"
  },
  "language_info": {
   "codemirror_mode": {
    "name": "ipython",
    "version": 3
   },
   "file_extension": ".py",
   "mimetype": "text/x-python",
   "name": "python",
   "nbconvert_exporter": "python",
   "pygments_lexer": "ipython3",
   "version": "3.8.3"
  }
 },
 "nbformat": 4,
 "nbformat_minor": 4
}
